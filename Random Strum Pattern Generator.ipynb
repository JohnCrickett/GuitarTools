{
 "cells": [
  {
   "cell_type": "code",
   "execution_count": null,
   "metadata": {
    "collapsed": true
   },
   "outputs": [],
   "source": [
    "import random"
   ]
  },
  {
   "cell_type": "code",
   "execution_count": null,
   "metadata": {
    "collapsed": false
   },
   "outputs": [],
   "source": [
    "note_count = 8\n",
    "\n",
    "stroke_pattern = ['d', 'u'] * int(note_count / 2)"
   ]
  },
  {
   "cell_type": "code",
   "execution_count": null,
   "metadata": {
    "collapsed": false
   },
   "outputs": [],
   "source": [
    "def render_pattern(pattern, stroke_pattern):\n",
    "    strum_pattern = []\n",
    "    \n",
    "    for i, strum in enumerate(pattern):\n",
    "        if strum:\n",
    "            strum_pattern.append(stroke_pattern[i])\n",
    "        else:\n",
    "            strum_pattern.append('-')\n",
    "    \n",
    "    print(' '.join(strum_pattern))\n"
   ]
  },
  {
   "cell_type": "code",
   "execution_count": null,
   "metadata": {
    "collapsed": false
   },
   "outputs": [],
   "source": [
    "pattern = [random.choice([True, False]) for i in range(note_count)]\n",
    "\n",
    "print('1 & 2 & 3 & 4 &')\n",
    "\n",
    "render_pattern(pattern, stroke_pattern)"
   ]
  }
 ],
 "metadata": {
  "kernelspec": {
   "display_name": "Python 3",
   "language": "python",
   "name": "python3"
  },
  "language_info": {
   "codemirror_mode": {
    "name": "ipython",
    "version": 3
   },
   "file_extension": ".py",
   "mimetype": "text/x-python",
   "name": "python",
   "nbconvert_exporter": "python",
   "pygments_lexer": "ipython3",
   "version": "3.5.2"
  }
 },
 "nbformat": 4,
 "nbformat_minor": 1
}
